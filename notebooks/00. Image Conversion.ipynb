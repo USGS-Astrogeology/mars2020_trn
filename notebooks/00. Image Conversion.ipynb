{
 "cells": [
  {
   "cell_type": "code",
   "execution_count": 1,
   "metadata": {},
   "outputs": [
    {
     "name": "stderr",
     "output_type": "stream",
     "text": [
      "/usgs/apps/anaconda/envs/autocnet/lib/python3.6/site-packages/h5py/__init__.py:36: FutureWarning: Conversion of the second argument of issubdtype from `float` to `np.floating` is deprecated. In future, it will be treated as `np.float64 == np.dtype(float).type`.\n",
      "  from ._conv import register_converters as _register_converters\n"
     ]
    }
   ],
   "source": [
    "import os\n",
    "\n",
    "import gdal\n",
    "from plio.io.io_gdal import GeoDataset"
   ]
  },
  {
   "cell_type": "code",
   "execution_count": 2,
   "metadata": {
    "collapsed": true
   },
   "outputs": [],
   "source": [
    "# setup the paths to cubes and tiffs\n",
    "hirise_cub1 = \"ESP_023524_1985_1m_o_isis3.cub\"\n",
    "hirise_cub2 = \"ESP_048908_1985_1m_o_isis3.cub\"\n",
    "ctx_cub1 = \"F05_037607_2008_XN_20N282W_v6_PosAndVelAndAngles_20m_o.cub\"\n",
    "ctx_cub2 = \"J03_045994_1986_XN_18N282W_v6_20m_o.cub\"\n",
    "ctx_cub3 = \"F05_037607_2008_XN_20N282W_v6_PosAndVelAndAngles_6m_o.cub\"\n",
    "ctx_cub4 = \"J03_045994_1986_XN_18N282W_v6_6m_o.cub\"\n",
    "hrsc_cub = \"H5270_0000_ND4.IMG\""
   ]
  },
  {
   "cell_type": "code",
   "execution_count": 30,
   "metadata": {
    "collapsed": true
   },
   "outputs": [],
   "source": [
    "def translate_image(in_image, out_image, overlap_points, res, in_srs, out_srs):\n",
    "    # if not os.path.exists(tiff_image_mod1):\n",
    "    ul, lr = overlap_points\n",
    "\n",
    "    minx, miny= ul\n",
    "    maxx, maxy = lr\n",
    "\n",
    "    fp = gdal.Translate(out_image, in_image, srcWin = [minx, miny, maxx - minx, maxy - miny])\n",
    "    del(fp)\n",
    "\n",
    "#     fp = gdal.Warp(out_image, out_image, targetAlignedPixels=True, xRes = res, yRes = res, resampleAlg=resample, srcSRS=src_in_srs, dstSRS=out_srs)\n",
    "    fp = gdal.Warp(out_image, out_image, targetAlignedPixels=True, xRes = res, yRes = res, resampleAlg=resample)\n",
    "    del(fp)"
   ]
  },
  {
   "cell_type": "code",
   "execution_count": 31,
   "metadata": {},
   "outputs": [],
   "source": [
    "hirise_basepath = '/home/acpaquette/repos/mars2020_trn/TestData/HiRISE_Jezero/'\n",
    "ctx_20_basepath = '/home/acpaquette/repos/mars2020_trn/TestData/CTX_Jezero/20m_ctx/'\n",
    "ctx_6_basepath = '/home/acpaquette/repos/mars2020_trn/TestData/CTX_Jezero/6m_ctx/'\n",
    "hrsc_basepath = '/home/acpaquette/repos/mars2020_trn/TestData/HRSC_Jezero/'\n",
    "\n",
    "cub_image1 = os.path.join(hirise_basepath, hirise_cub1)\n",
    "cub_image2 = os.path.join(ctx_20_basepath, ctx_cub1)\n",
    "\n",
    "# cub_image1 = os.path.join(hrsc_basepath, hrsc_cub)\n",
    "# cub_image2 = os.path.join(ctx_20_basepath, ctx_cub1)\n",
    "\n",
    "# cub_image1 = os.path.join(ctx_20_basepath, ctx_cub1)\n",
    "# cub_image2 = os.path.join(ctx_20_basepath, ctx_cub2)\n",
    "\n",
    "tiff_image1 = os.path.splitext(cub_image1)[0] + '.tiff'\n",
    "tiff_image2 = os.path.splitext(cub_image2)[0] + '.tiff'\n",
    "\n",
    "src_in_srs = gdal.Info(cub_image1, format='json')['coordinateSystem']['wkt']\n",
    "dst_in_srs = gdal.Info(cub_image2, format='json')['coordinateSystem']['wkt']\n",
    "\n",
    "if 'Equirectangular' in src_in_srs:\n",
    "    src_out_srs = src_in_srs\n",
    "else:\n",
    "    if 'Equirectangular' in dst_in_srs:\n",
    "        src_out_srs = dst_in_srs\n",
    "\n",
    "if 'Equirectangular' in dst_in_srs:\n",
    "    dst_out_srs = dst_in_srs\n",
    "else:\n",
    "    if 'Equirectangular' in src_in_srs:\n",
    "        dst_out_srs = src_in_srs\n",
    "        \n",
    "# print(src_in_srs)\n",
    "# print(dst_in_srs)\n",
    "\n",
    "resample = 'bilinear'\n",
    "res = 20\n",
    "\n",
    "# Get all geo data for the two co-registered tiffs\n",
    "cub_geo1 = GeoDataset(cub_image1)\n",
    "cub_geo2 = GeoDataset(cub_image2)\n",
    "\n",
    "overlap = cub_geo1.compute_overlap(cub_geo2)[0]\n",
    "\n",
    "overlap_points1 = [cub_geo1.latlon_to_pixel(i[1], i[0]) for i in overlap][::2]\n",
    "overlap_points2 = [cub_geo2.latlon_to_pixel(i[1], i[0]) for i in overlap][::2]"
   ]
  },
  {
   "cell_type": "code",
   "execution_count": 32,
   "metadata": {
    "collapsed": true
   },
   "outputs": [],
   "source": [
    "translate_image(cub_image1, tiff_image1, overlap_points1, res, src_in_srs, src_out_srs)"
   ]
  },
  {
   "cell_type": "code",
   "execution_count": 33,
   "metadata": {
    "collapsed": true
   },
   "outputs": [],
   "source": [
    "translate_image(cub_image2, tiff_image2, overlap_points2, res, dst_in_srs, dst_out_srs)"
   ]
  },
  {
   "cell_type": "code",
   "execution_count": null,
   "metadata": {},
   "outputs": [],
   "source": [
    "# src_in_srs = gdal.Info(tiff_image1, format='json')['coordinateSystem']['wkt']\n",
    "# dst_in_srs = gdal.Info(tiff_image2, format='json')['coordinateSystem']['wkt']\n",
    "# print(src_in_srs)\n",
    "# print(dst_in_srs)"
   ]
  },
  {
   "cell_type": "code",
   "execution_count": null,
   "metadata": {
    "collapsed": true
   },
   "outputs": [],
   "source": []
  }
 ],
 "metadata": {
  "kernelspec": {
   "display_name": "autocnet",
   "language": "python",
   "name": "autocnet"
  },
  "language_info": {
   "codemirror_mode": {
    "name": "ipython",
    "version": 3
   },
   "file_extension": ".py",
   "mimetype": "text/x-python",
   "name": "python",
   "nbconvert_exporter": "python",
   "pygments_lexer": "ipython3",
   "version": "3.6.4"
  }
 },
 "nbformat": 4,
 "nbformat_minor": 2
}
